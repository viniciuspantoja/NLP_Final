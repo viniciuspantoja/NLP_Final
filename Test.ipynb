{
 "cells": [
  {
   "cell_type": "code",
   "execution_count": 1,
   "metadata": {},
   "outputs": [],
   "source": [
    "import time\n",
    "from main_query_links import main"
   ]
  },
  {
   "cell_type": "code",
   "execution_count": 2,
   "metadata": {},
   "outputs": [],
   "source": [
    "begg = time.time()\n",
    "a = main(['autonomous','tesla','autonomous car'], '03','2018','05')"
   ]
  },
  {
   "cell_type": "code",
   "execution_count": 3,
   "metadata": {},
   "outputs": [
    {
     "name": "stdout",
     "output_type": "stream",
     "text": [
      "2\n",
      "426     http://www.13wmaz.com/news/veteran-with-trauma...\n",
      "433     http://indianexpress.com/article/india/yoga-te...\n",
      "440     https://www.centralmaine.com/2018/03/04/democr...\n",
      "483     https://www.centraltelegraph.com.au/news/why-t...\n",
      "484     https://www.dailymercury.com.au/news/why-the-b...\n",
      "534     https://www.theage.com.au/politics/federal/whi...\n",
      "559     https://www.centralmaine.com/2018/03/04/immigr...\n",
      "585     https://www.thestar.com/news/canada/2018/02/26...\n",
      "586     https://www.thestar.com/news/canada/2018/02/26...\n",
      "588     https://www.z92.com/news/national/advertisers-...\n",
      "590     https://www.newstimes.com/technology/businessi...\n",
      "592     https://www.z92.com/news/national/advertisers-...\n",
      "593     https://www.z92.com/news/national/advertisers-...\n",
      "601     http://www.lakelandtimes.com/main.asp?SectionI...\n",
      "603     https://www.z92.com/news/national/advertisers-...\n",
      "604     http://www.kcwy13.com/content/news/Gun-Sales-T...\n",
      "607     http://www.emissourian.com/local_news/saint_cl...\n",
      "613     http://pamplinmedia.com/pt/9-news/388542-27916...\n",
      "614     http://pamplinmedia.com/pt/9-news/388542-27916...\n",
      "615     http://www.thesky973.com/articles/abc-news/kus...\n",
      "618     https://www.z92.com/news/national/advertisers-...\n",
      "619     https://www.newstimes.com/technology/businessi...\n",
      "625     https://www.thenational.ae/world/the-americas/...\n",
      "626     https://www.thenational.ae/world/the-americas/...\n",
      "627     https://www.thenational.ae/world/the-americas/...\n",
      "632     http://www.kwqc.com/content/news/May-tells-Tru...\n",
      "634     http://www.saukvalley.com/2018/02/28/illinois-...\n",
      "635     http://www.saukvalley.com/2018/02/28/illinois-...\n",
      "639     https://www.thestar.com/news/canada/2018/02/26...\n",
      "640     https://www.z92.com/news/national/advertisers-...\n",
      "                              ...                        \n",
      "2390    http://www.djournal.com/news/local/u-s-sen-tha...\n",
      "2391    http://forimmediaterelease.net/south-dakota-v-...\n",
      "2392    https://www.newsmax.com/politics/joe-manchin-w...\n",
      "2393    http://forimmediaterelease.net/south-dakota-v-...\n",
      "2394    http://forimmediaterelease.net/south-dakota-v-...\n",
      "2395    http://abc7chicago.com/entertainment/chicago-m...\n",
      "2396    http://www.khou.com/article/news/education/his...\n",
      "2397    http://www.khou.com/article/news/education/his...\n",
      "2398    http://www.foxnews.com/us/2018/03/05/protestor...\n",
      "2399    http://www.foxnews.com/us/2018/03/05/protestor...\n",
      "2400    https://forextv.com/market-news/the-wall-stree...\n",
      "2401    https://forextv.com/market-news/the-wall-stree...\n",
      "2402    http://www.startribune.com/dems-head-into-prim...\n",
      "2403    http://www.bostonherald.com/news/national/2018...\n",
      "2404    http://www.bostonherald.com/news/national/2018...\n",
      "2405    http://www.bostonherald.com/news/national/2018...\n",
      "2406    http://www.dailymail.co.uk/wires/ap/article-54...\n",
      "2408    http://www.history.com/news/why-the-civil-war-...\n",
      "2409    http://variety.com/2018/tv/news/tv-news-roundu...\n",
      "2415    https://www.nytimes.com/2018/03/05/opinion/wes...\n",
      "2416    http://www.texasgopvote.com/economy/why-gov-ab...\n",
      "2417    http://www.27east.com/news/article.cfm/Eastpor...\n",
      "2418           http://www.patheos.com/blogs/deaconsbench/\n",
      "2420           http://www.patheos.com/blogs/deaconsbench/\n",
      "2428    http://www.thailandnews.net/news/256653261/air...\n",
      "2432    http://www.thailandnews.net/news/256653261/air...\n",
      "2448    http://www.therepublic.com/2018/03/05/ut-utah-...\n",
      "2449    http://www.therepublic.com/2018/03/05/ut-utah-...\n",
      "2450    http://www.history.com/news/why-the-civil-war-...\n",
      "2451    http://www.history.com/news/why-the-civil-war-...\n",
      "Name: SOURCEURL, Length: 50833, dtype: object\n"
     ]
    }
   ],
   "source": [
    "b = a.get_full_links()"
   ]
  },
  {
   "cell_type": "code",
   "execution_count": 4,
   "metadata": {},
   "outputs": [
    {
     "data": {
      "text/plain": [
       "['http://www.azfamily.com/story/37639083/governor-doug-ducey-updates-autonomous-vehicle-executive-order',\n",
       " 'https://www.chinamoneynetwork.com/2018/03/05/chinese-autonomous-driving-start-jingchi-joins-baidus-apollo-system-former-ceo-wang-jin-stepped',\n",
       " 'https://www.chinamoneynetwork.com/2018/03/05/chinese-autonomous-driving-start-jingchi-joins-baidus-apollo-system-former-ceo-wang-jin-stepped',\n",
       " 'https://www.rustourismnews.com/2018/03/05/boeing-establishes-new-autonomous-systems-program-in-australia/',\n",
       " 'https://www.rustourismnews.com/2018/03/05/boeing-establishes-new-autonomous-systems-program-in-australia/',\n",
       " 'http://thewestsidestory.net/autonomous-vehicles-blockchain-regulatory-sandboxes-taking-off/',\n",
       " 'https://www.businessinsider.com.au/ford-testing-autonomous-pizza-delivery-cars-2018-3']"
      ]
     },
     "execution_count": 4,
     "metadata": {},
     "output_type": "execute_result"
    }
   ],
   "source": [
    "b"
   ]
  },
  {
   "cell_type": "code",
   "execution_count": null,
   "metadata": {},
   "outputs": [],
   "source": []
  }
 ],
 "metadata": {
  "kernelspec": {
   "display_name": "Python 3",
   "language": "python",
   "name": "python3"
  },
  "language_info": {
   "codemirror_mode": {
    "name": "ipython",
    "version": 3
   },
   "file_extension": ".py",
   "mimetype": "text/x-python",
   "name": "python",
   "nbconvert_exporter": "python",
   "pygments_lexer": "ipython3",
   "version": "3.7.3"
  }
 },
 "nbformat": 4,
 "nbformat_minor": 2
}
